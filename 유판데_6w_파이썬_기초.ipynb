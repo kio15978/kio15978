{
  "nbformat": 4,
  "nbformat_minor": 0,
  "metadata": {
    "colab": {
      "name": "유판데 6w - 파이썬 기초.ipynb",
      "provenance": [],
      "collapsed_sections": [],
      "authorship_tag": "ABX9TyP7HIMH3S7CNiQ9yJrRDWSA",
      "include_colab_link": true
    },
    "kernelspec": {
      "name": "python3",
      "display_name": "Python 3"
    },
    "language_info": {
      "name": "python"
    }
  },
  "cells": [
    {
      "cell_type": "markdown",
      "metadata": {
        "id": "view-in-github",
        "colab_type": "text"
      },
      "source": [
        "<a href=\"https://colab.research.google.com/github/kio15978/kio15978/blob/main/%EC%9C%A0%ED%8C%90%EB%8D%B0_6w_%ED%8C%8C%EC%9D%B4%EC%8D%AC_%EA%B8%B0%EC%B4%88.ipynb\" target=\"_parent\"><img src=\"https://colab.research.google.com/assets/colab-badge.svg\" alt=\"Open In Colab\"/></a>"
      ]
    },
    {
      "cell_type": "markdown",
      "source": [
        "# **자료유형 다루기 연습**\n",
        "> 글자에 # 많아질 수록 글자 작아짐"
      ],
      "metadata": {
        "id": "Nzg1j6zgMlSc"
      }
    },
    {
      "cell_type": "code",
      "source": [
        "a=123\n",
        "b=-123.4\n",
        "a+b"
      ],
      "metadata": {
        "colab": {
          "base_uri": "https://localhost:8080/"
        },
        "id": "iFXDTPh4M6Ye",
        "outputId": "81867408-e407-4770-9a12-a1c9356b8e3c"
      },
      "execution_count": null,
      "outputs": [
        {
          "output_type": "execute_result",
          "data": {
            "text/plain": [
              "-0.4000000000000057"
            ]
          },
          "metadata": {},
          "execution_count": 1
        }
      ]
    },
    {
      "cell_type": "code",
      "source": [
        "# 8진수\n",
        "c=0o34   \n",
        "d=0o25\n",
        "c+d"
      ],
      "metadata": {
        "colab": {
          "base_uri": "https://localhost:8080/"
        },
        "id": "2FHnDisZNDjJ",
        "outputId": "8d7d4ce1-aa0e-47e3-e9d7-f9815c824461"
      },
      "execution_count": null,
      "outputs": [
        {
          "output_type": "execute_result",
          "data": {
            "text/plain": [
              "49"
            ]
          },
          "metadata": {},
          "execution_count": 6
        }
      ]
    },
    {
      "cell_type": "code",
      "source": [
        "# 16 진수\n",
        "e=0x2A\n",
        "f=0xFF\n",
        "e+f"
      ],
      "metadata": {
        "colab": {
          "base_uri": "https://localhost:8080/"
        },
        "id": "vBzxaLmNNV3n",
        "outputId": "22e1c554-c049-4646-f48f-0d0efee56a47"
      },
      "execution_count": null,
      "outputs": [
        {
          "output_type": "execute_result",
          "data": {
            "text/plain": [
              "297"
            ]
          },
          "metadata": {},
          "execution_count": 5
        }
      ]
    },
    {
      "cell_type": "code",
      "source": [
        "s='wiseinCompany'"
      ],
      "metadata": {
        "id": "HUF6zZ7nNbvL"
      },
      "execution_count": null,
      "outputs": []
    },
    {
      "cell_type": "code",
      "source": [
        "s1=\"wiseinCompany\""
      ],
      "metadata": {
        "id": "1-y-5GuxNo4o"
      },
      "execution_count": null,
      "outputs": []
    },
    {
      "cell_type": "code",
      "source": [
        "s2= '\"wiseinCompany\"'    \n",
        "# ' ' 안에 \"\" 있으므로 \"\"도 글자로 출력\n",
        "# ''' wiseinComapny''' -> wiseinCompayn로 출력"
      ],
      "metadata": {
        "id": "MSA3aTnqNsZB"
      },
      "execution_count": null,
      "outputs": []
    },
    {
      "cell_type": "code",
      "source": [
        "print(s)"
      ],
      "metadata": {
        "colab": {
          "base_uri": "https://localhost:8080/"
        },
        "id": "w1rQ5DsaNvyC",
        "outputId": "99a91c67-734b-4e13-a8e3-9ee6213b911b"
      },
      "execution_count": null,
      "outputs": [
        {
          "output_type": "stream",
          "name": "stdout",
          "text": [
            "wiseinCompany\n"
          ]
        }
      ]
    },
    {
      "cell_type": "code",
      "source": [
        "print(s1)"
      ],
      "metadata": {
        "colab": {
          "base_uri": "https://localhost:8080/"
        },
        "id": "2C8lzDpFNwuu",
        "outputId": "051e0308-1ddb-4655-a5c7-b9338670dc39"
      },
      "execution_count": null,
      "outputs": [
        {
          "output_type": "stream",
          "name": "stdout",
          "text": [
            "wiseinCompany\n"
          ]
        }
      ]
    },
    {
      "cell_type": "code",
      "source": [
        "print(s2)"
      ],
      "metadata": {
        "colab": {
          "base_uri": "https://localhost:8080/"
        },
        "id": "UKX0vPzJNxa7",
        "outputId": "d9cb0cc0-9f1e-40ad-8a50-6d4e245799a2"
      },
      "execution_count": null,
      "outputs": [
        {
          "output_type": "stream",
          "name": "stdout",
          "text": [
            "\"wiseinCompany\n"
          ]
        }
      ]
    },
    {
      "cell_type": "code",
      "source": [
        "s3='123'"
      ],
      "metadata": {
        "id": "D8mLF0tUN4OJ"
      },
      "execution_count": null,
      "outputs": []
    },
    {
      "cell_type": "code",
      "source": [
        "print(s3)"
      ],
      "metadata": {
        "colab": {
          "base_uri": "https://localhost:8080/"
        },
        "id": "QVzisxYSOD4c",
        "outputId": "d59c8d89-19bf-4285-f916-a54c656ad28e"
      },
      "execution_count": null,
      "outputs": [
        {
          "output_type": "stream",
          "name": "stdout",
          "text": [
            "123\n"
          ]
        }
      ]
    },
    {
      "cell_type": "code",
      "source": [
        "print(type(s3))  # s3 타입 확인 -> 따옴표로 묶으면 문자"
      ],
      "metadata": {
        "colab": {
          "base_uri": "https://localhost:8080/"
        },
        "id": "ajHnPrXWOEvK",
        "outputId": "a541d737-2529-47bc-ef27-ee0f74063845"
      },
      "execution_count": null,
      "outputs": [
        {
          "output_type": "stream",
          "name": "stdout",
          "text": [
            "<class 'str'>\n"
          ]
        }
      ]
    },
    {
      "cell_type": "code",
      "source": [
        "a='wise'\n",
        "b='incompany'\n",
        "print(a+b)  #  +  붙어서\n",
        "print(a, b) #  ,  쓰면 띄어져서\n"
      ],
      "metadata": {
        "colab": {
          "base_uri": "https://localhost:8080/"
        },
        "id": "PZpv8ethONTk",
        "outputId": "d9c40201-9858-46c9-f777-5f34831e4202"
      },
      "execution_count": null,
      "outputs": [
        {
          "output_type": "stream",
          "name": "stdout",
          "text": [
            "wiseincompany\n",
            "wise incompany\n"
          ]
        }
      ]
    },
    {
      "cell_type": "code",
      "source": [
        "print(s*3)   #  *  3번 반복"
      ],
      "metadata": {
        "colab": {
          "base_uri": "https://localhost:8080/"
        },
        "id": "KsFbCxswOU-T",
        "outputId": "369b163b-500e-4717-b297-6305f31dd390"
      },
      "execution_count": null,
      "outputs": [
        {
          "output_type": "stream",
          "name": "stdout",
          "text": [
            "wiseinCompanywiseinCompanywiseinCompany\n"
          ]
        }
      ]
    },
    {
      "cell_type": "code",
      "source": [
        "a='wise in company'"
      ],
      "metadata": {
        "id": "JUAbRYpQOpgM"
      },
      "execution_count": null,
      "outputs": []
    },
    {
      "cell_type": "markdown",
      "source": [
        "## 인덱싱 : 안에 있는 단어들 끄집어 내기\n",
        "## 파이썬은 0부터 시작  / 빈칸도 셈\n",
        "\n",
        "[ ] 데이터 요소에 접근"
      ],
      "metadata": {
        "id": "brqlbYEtP_w5"
      }
    },
    {
      "cell_type": "code",
      "source": [
        "print(a[3])    # [] 어떤 데이터 요소에 접근 "
      ],
      "metadata": {
        "colab": {
          "base_uri": "https://localhost:8080/"
        },
        "id": "bXdPTiCvOyt9",
        "outputId": "7529c615-3216-40ae-f519-285dff68a649"
      },
      "execution_count": null,
      "outputs": [
        {
          "output_type": "stream",
          "name": "stdout",
          "text": [
            "e\n"
          ]
        }
      ]
    },
    {
      "cell_type": "code",
      "source": [
        "print(a[-3])  # - 뒤에서"
      ],
      "metadata": {
        "colab": {
          "base_uri": "https://localhost:8080/"
        },
        "id": "Uhtr6DftPCgy",
        "outputId": "e9fe9daa-dcc2-4339-feae-2ba65e6d0c0d"
      },
      "execution_count": null,
      "outputs": [
        {
          "output_type": "stream",
          "name": "stdout",
          "text": [
            "a\n"
          ]
        }
      ]
    },
    {
      "cell_type": "markdown",
      "source": [
        "## 슬라이싱 : 몇번째부터 몇번째까지 끊어서 처리"
      ],
      "metadata": {
        "id": "-kJZgfnxP8bT"
      }
    },
    {
      "cell_type": "code",
      "source": [
        "print(a[5:7])  #  ~ 부터 : ~ 까지"
      ],
      "metadata": {
        "colab": {
          "base_uri": "https://localhost:8080/"
        },
        "id": "ZXDiNAerPPCG",
        "outputId": "82b5dbb5-2f84-47bf-915f-294c2a294ad9"
      },
      "execution_count": null,
      "outputs": [
        {
          "output_type": "stream",
          "name": "stdout",
          "text": [
            "in\n"
          ]
        }
      ]
    },
    {
      "cell_type": "code",
      "source": [
        "print(a[4:])  # 4부터 끝까지"
      ],
      "metadata": {
        "colab": {
          "base_uri": "https://localhost:8080/"
        },
        "id": "ZPwdH3IRPZNV",
        "outputId": "64a5499c-f757-4868-fa4a-3891803ff7d8"
      },
      "execution_count": null,
      "outputs": [
        {
          "output_type": "stream",
          "name": "stdout",
          "text": [
            " in company\n"
          ]
        }
      ]
    },
    {
      "cell_type": "code",
      "source": [
        "print(a[:4]) # 처음부터 4까지"
      ],
      "metadata": {
        "colab": {
          "base_uri": "https://localhost:8080/"
        },
        "id": "Ol1E8ARnPdHx",
        "outputId": "398a0afd-0f6b-4f3c-c825-6fe4b3218995"
      },
      "execution_count": null,
      "outputs": [
        {
          "output_type": "stream",
          "name": "stdout",
          "text": [
            "wise\n"
          ]
        }
      ]
    },
    {
      "cell_type": "markdown",
      "source": [
        "# **리스트 list []**"
      ],
      "metadata": {
        "id": "J2mABay9QRWD"
      }
    },
    {
      "cell_type": "code",
      "source": [
        "a=[1,2,3,4,5]  # [] 리스트"
      ],
      "metadata": {
        "id": "y-b6MVNtPu4V"
      },
      "execution_count": null,
      "outputs": []
    },
    {
      "cell_type": "code",
      "source": [
        "print(a)"
      ],
      "metadata": {
        "colab": {
          "base_uri": "https://localhost:8080/"
        },
        "id": "3tesKu1QQf3u",
        "outputId": "a02a7961-da6b-4427-cc55-4080da85ef96"
      },
      "execution_count": null,
      "outputs": [
        {
          "output_type": "stream",
          "name": "stdout",
          "text": [
            "[1, 2, 3, 4, 5]\n"
          ]
        }
      ]
    },
    {
      "cell_type": "code",
      "source": [
        "print(a[0])   # 첫번째 값"
      ],
      "metadata": {
        "colab": {
          "base_uri": "https://localhost:8080/"
        },
        "id": "bmY1nN0sP0co",
        "outputId": "8f7fb1bd-11f1-4b89-b358-871bf029843d"
      },
      "execution_count": null,
      "outputs": [
        {
          "output_type": "stream",
          "name": "stdout",
          "text": [
            "1\n"
          ]
        }
      ]
    },
    {
      "cell_type": "code",
      "source": [
        "print(a[0:5])"
      ],
      "metadata": {
        "colab": {
          "base_uri": "https://localhost:8080/"
        },
        "id": "ZCBNKdyYQcQt",
        "outputId": "abb7d942-ecbe-4041-d1bf-a876df520c3a"
      },
      "execution_count": null,
      "outputs": [
        {
          "output_type": "stream",
          "name": "stdout",
          "text": [
            "[1, 2, 3, 4, 5]\n"
          ]
        }
      ]
    },
    {
      "cell_type": "code",
      "source": [
        "print(a[:5])"
      ],
      "metadata": {
        "colab": {
          "base_uri": "https://localhost:8080/"
        },
        "id": "qc48WJVFQnpX",
        "outputId": "8bec6371-f589-4a98-e9e5-edad7f06abe6"
      },
      "execution_count": null,
      "outputs": [
        {
          "output_type": "stream",
          "name": "stdout",
          "text": [
            "[1, 2, 3, 4, 5]\n"
          ]
        }
      ]
    },
    {
      "cell_type": "code",
      "source": [
        "print(a[2:])"
      ],
      "metadata": {
        "colab": {
          "base_uri": "https://localhost:8080/"
        },
        "id": "z4oZdnRHQqHb",
        "outputId": "7abea643-167a-4e6a-db4d-12de47b40612"
      },
      "execution_count": null,
      "outputs": [
        {
          "output_type": "stream",
          "name": "stdout",
          "text": [
            "[3, 4, 5]\n"
          ]
        }
      ]
    },
    {
      "cell_type": "markdown",
      "source": [
        ". 에 접근    append 추가"
      ],
      "metadata": {
        "id": "YSpJi5_cT5od"
      }
    },
    {
      "cell_type": "code",
      "source": [
        "a.append(6)   #  . 에 접근    append 추가"
      ],
      "metadata": {
        "id": "miuC8ArTQr5J"
      },
      "execution_count": null,
      "outputs": []
    },
    {
      "cell_type": "code",
      "source": [
        "print(a)"
      ],
      "metadata": {
        "colab": {
          "base_uri": "https://localhost:8080/"
        },
        "id": "0oZm4oqyQxIL",
        "outputId": "59634eed-fd03-4edd-c0fe-ff20d0340489"
      },
      "execution_count": null,
      "outputs": [
        {
          "output_type": "stream",
          "name": "stdout",
          "text": [
            "[1, 2, 3, 4, 5, 6]\n"
          ]
        }
      ]
    },
    {
      "cell_type": "markdown",
      "source": [
        "리스트명[몇 번째] = 대체"
      ],
      "metadata": {
        "id": "D4d1mVhoT4Ha"
      }
    },
    {
      "cell_type": "code",
      "source": [
        "a[0]=0  # 리스트명[몇 번째] = 대체"
      ],
      "metadata": {
        "id": "ZhcJLfuJTjWY"
      },
      "execution_count": null,
      "outputs": []
    },
    {
      "cell_type": "code",
      "source": [
        "print(a)"
      ],
      "metadata": {
        "colab": {
          "base_uri": "https://localhost:8080/"
        },
        "id": "GRRR18qET0Qy",
        "outputId": "5a371afc-566d-4e18-c47b-7723acd41d78"
      },
      "execution_count": null,
      "outputs": [
        {
          "output_type": "stream",
          "name": "stdout",
          "text": [
            "[0, 2, 3, 4, 5, 6]\n"
          ]
        }
      ]
    },
    {
      "cell_type": "markdown",
      "source": [
        "del 리스트명[몇 번째]   ->  뺴기"
      ],
      "metadata": {
        "id": "K49A1C2vUI9V"
      }
    },
    {
      "cell_type": "code",
      "source": [
        "del a[1]  # 리스트니까 [] 대괄호"
      ],
      "metadata": {
        "id": "tV9K4v-6UDKp"
      },
      "execution_count": null,
      "outputs": []
    },
    {
      "cell_type": "code",
      "source": [
        "print(a)"
      ],
      "metadata": {
        "colab": {
          "base_uri": "https://localhost:8080/"
        },
        "id": "TZK-EEd9UFLx",
        "outputId": "71072008-21e5-4254-fe17-6935c3f3febe"
      },
      "execution_count": null,
      "outputs": [
        {
          "output_type": "stream",
          "name": "stdout",
          "text": [
            "[0, 3, 4, 5, 6]\n"
          ]
        }
      ]
    },
    {
      "cell_type": "code",
      "source": [
        "# 리스트끼리 더하기 가능\n",
        "a=[1,2]   \n",
        "b=[3,4,5]\n",
        "c=a+b\n",
        "print(c)"
      ],
      "metadata": {
        "colab": {
          "base_uri": "https://localhost:8080/"
        },
        "id": "2Dnj-w_LUR1R",
        "outputId": "2d755d92-a026-4096-d5aa-14b701700dbd"
      },
      "execution_count": null,
      "outputs": [
        {
          "output_type": "stream",
          "name": "stdout",
          "text": [
            "[1, 2, 3, 4, 5]\n"
          ]
        }
      ]
    },
    {
      "cell_type": "markdown",
      "source": [
        "곱하기 아님 ( * ) 반복의 표시"
      ],
      "metadata": {
        "id": "62xB-ywcU4CM"
      }
    },
    {
      "cell_type": "code",
      "source": [
        "d=a*3  # a를 3번 반복해라\n",
        "print(d)"
      ],
      "metadata": {
        "colab": {
          "base_uri": "https://localhost:8080/"
        },
        "id": "SSA9KyeKUVGA",
        "outputId": "9709dd66-051f-4bda-b559-8c6cbd583d52"
      },
      "execution_count": null,
      "outputs": [
        {
          "output_type": "stream",
          "name": "stdout",
          "text": [
            "[1, 2, 1, 2, 1, 2]\n"
          ]
        }
      ]
    },
    {
      "cell_type": "markdown",
      "source": [
        "# **튜플 tuple ( )**"
      ],
      "metadata": {
        "id": "BUb6yHBnVKGo"
      }
    },
    {
      "cell_type": "markdown",
      "source": [
        "리스트는 만들고, 수정, 추가 삭제 가능\n",
        "\n",
        "튜플은 바꿀 수 없음\n",
        "\n",
        "소괄호 ( )"
      ],
      "metadata": {
        "id": "kOz3VLFgVJ59"
      }
    },
    {
      "cell_type": "code",
      "source": [
        "t=(1,2,3,4,5)"
      ],
      "metadata": {
        "id": "xYRlBcwsV2PA"
      },
      "execution_count": null,
      "outputs": []
    },
    {
      "cell_type": "markdown",
      "source": [
        "변수 자료 유형과 상관 없이 [] 데이터 안에 든 몇번째 요소 접근"
      ],
      "metadata": {
        "id": "MboocNXrWF9V"
      }
    },
    {
      "cell_type": "code",
      "source": [
        "print(t[1])   # [] 데이터  요소 접근 "
      ],
      "metadata": {
        "colab": {
          "base_uri": "https://localhost:8080/"
        },
        "id": "_JzC4H_LV539",
        "outputId": "ec9e602d-7912-4642-9fec-8f31573532f2"
      },
      "execution_count": null,
      "outputs": [
        {
          "output_type": "stream",
          "name": "stdout",
          "text": [
            "2\n"
          ]
        }
      ]
    },
    {
      "cell_type": "code",
      "source": [
        "print(t[0:4])"
      ],
      "metadata": {
        "colab": {
          "base_uri": "https://localhost:8080/"
        },
        "id": "DKAj5r0fV7hX",
        "outputId": "b1cefab1-5ffe-4533-f5b5-7fc699503f76"
      },
      "execution_count": null,
      "outputs": [
        {
          "output_type": "stream",
          "name": "stdout",
          "text": [
            "(1, 2, 3, 4)\n"
          ]
        }
      ]
    },
    {
      "cell_type": "code",
      "source": [
        "t1=t[0:4]  # ~번째부터 ~까지 -> 다른 데이터 객체에 넣어라"
      ],
      "metadata": {
        "id": "wfdzWuu8WNl4"
      },
      "execution_count": null,
      "outputs": []
    },
    {
      "cell_type": "code",
      "source": [
        "print(t1)"
      ],
      "metadata": {
        "colab": {
          "base_uri": "https://localhost:8080/"
        },
        "id": "NbqTwm8QWRab",
        "outputId": "238730dd-5464-4a11-c827-00dacc7ce8d9"
      },
      "execution_count": null,
      "outputs": [
        {
          "output_type": "stream",
          "name": "stdout",
          "text": [
            "(1, 2, 3, 4)\n"
          ]
        }
      ]
    },
    {
      "cell_type": "markdown",
      "source": [
        "병합"
      ],
      "metadata": {
        "id": "wycHIxceWgfq"
      }
    },
    {
      "cell_type": "code",
      "source": [
        "a=(1,2)\n",
        "b=(3,4,5)\n",
        "c=a+b"
      ],
      "metadata": {
        "id": "xZqDTESpWTET"
      },
      "execution_count": null,
      "outputs": []
    },
    {
      "cell_type": "code",
      "source": [
        "print(c)"
      ],
      "metadata": {
        "colab": {
          "base_uri": "https://localhost:8080/"
        },
        "id": "bNOs0UhFWdy9",
        "outputId": "e6e841f3-de05-44df-abaa-be3ffa74ac59"
      },
      "execution_count": null,
      "outputs": [
        {
          "output_type": "stream",
          "name": "stdout",
          "text": [
            "(1, 2, 3, 4, 5)\n"
          ]
        }
      ]
    },
    {
      "cell_type": "markdown",
      "source": [
        "반복"
      ],
      "metadata": {
        "id": "SBBlpksaWutZ"
      }
    },
    {
      "cell_type": "code",
      "source": [
        "d=a*3\n",
        "print(d)"
      ],
      "metadata": {
        "colab": {
          "base_uri": "https://localhost:8080/"
        },
        "id": "954oqGbfWjvs",
        "outputId": "19adc28f-fb79-4bcf-e599-e5b0d6e97594"
      },
      "execution_count": null,
      "outputs": [
        {
          "output_type": "stream",
          "name": "stdout",
          "text": [
            "(1, 2, 1, 2, 1, 2)\n"
          ]
        }
      ]
    },
    {
      "cell_type": "code",
      "source": [
        "name=('David','Kim')\n",
        "print(name)"
      ],
      "metadata": {
        "colab": {
          "base_uri": "https://localhost:8080/"
        },
        "id": "myW5CuQaWmf_",
        "outputId": "48dff12a-4019-4daa-ba22-9e8ca56c719b"
      },
      "execution_count": null,
      "outputs": [
        {
          "output_type": "stream",
          "name": "stdout",
          "text": [
            "('David', 'Kim')\n"
          ]
        }
      ]
    },
    {
      "cell_type": "code",
      "source": [
        "firstname, lastname=('David','kim')\n",
        "print(lastname, ',', firstname)"
      ],
      "metadata": {
        "colab": {
          "base_uri": "https://localhost:8080/"
        },
        "id": "_v9Qips_WzJB",
        "outputId": "9968dca5-75b6-4b78-ab58-cbc6b5b44896"
      },
      "execution_count": null,
      "outputs": [
        {
          "output_type": "stream",
          "name": "stdout",
          "text": [
            "kim , David\n"
          ]
        }
      ]
    },
    {
      "cell_type": "markdown",
      "source": [
        "# **집합 set  { }**\n",
        "리스트 순서 있지만 집합은 순서 없음\n",
        "\n",
        "중복되면 각각이 아닌 하나만 나옴\n",
        "\n",
        "DB에서 나올 수 있는 여러 값 기준으로 삼기 좋음"
      ],
      "metadata": {
        "id": "-PML0VEGXDd8"
      }
    },
    {
      "cell_type": "code",
      "source": [
        "set={1,1,2,3,3}\n",
        "print(set)"
      ],
      "metadata": {
        "colab": {
          "base_uri": "https://localhost:8080/"
        },
        "id": "HYYeMhTDW8IK",
        "outputId": "533e3a47-0ee5-467f-95b7-2ebaa816a24e"
      },
      "execution_count": null,
      "outputs": [
        {
          "output_type": "stream",
          "name": "stdout",
          "text": [
            "{1, 2, 3}\n"
          ]
        }
      ]
    },
    {
      "cell_type": "markdown",
      "source": [
        "리스트  append 추가\n",
        "\n",
        "집합    add  추가 \n",
        "\n",
        "\n"
      ],
      "metadata": {
        "id": "Rp8u_aJXX5vR"
      }
    },
    {
      "cell_type": "code",
      "source": [
        "set.add(4)\n",
        "set"
      ],
      "metadata": {
        "colab": {
          "base_uri": "https://localhost:8080/"
        },
        "id": "kFXZC9QKXR_U",
        "outputId": "2e1fea97-3431-43b6-a9c6-2ad54a4cbc7a"
      },
      "execution_count": null,
      "outputs": [
        {
          "output_type": "execute_result",
          "data": {
            "text/plain": [
              "{2, 3, 4, 5, 6, 7}"
            ]
          },
          "metadata": {},
          "execution_count": 70
        }
      ]
    },
    {
      "cell_type": "markdown",
      "source": [
        " 하나가 아니라 여러개를 넣고 싶다 "
      ],
      "metadata": {
        "id": "KwTOWUmDYFiz"
      }
    },
    {
      "cell_type": "code",
      "source": [
        "set.update({5,6,7})    # 여러개니까 리스트 형태\n",
        "set"
      ],
      "metadata": {
        "colab": {
          "base_uri": "https://localhost:8080/"
        },
        "id": "zWyGeqHyX4uO",
        "outputId": "e82f78ce-f572-4414-c1a1-457e9c42e7ff"
      },
      "execution_count": null,
      "outputs": [
        {
          "output_type": "execute_result",
          "data": {
            "text/plain": [
              "{2, 3, 4, 5, 6, 7}"
            ]
          },
          "metadata": {},
          "execution_count": 71
        }
      ]
    },
    {
      "cell_type": "markdown",
      "source": [
        "**remove 지우기**\n",
        "\n",
        " 리스트, 튜플과 다르게  ( 집합은 순서가 없기 때문)\n",
        "\n",
        "set 안의 해당되는 값을 지움"
      ],
      "metadata": {
        "id": "vJBtDsbJYS0Q"
      }
    },
    {
      "cell_type": "code",
      "source": [
        "set.remove(1)"
      ],
      "metadata": {
        "colab": {
          "base_uri": "https://localhost:8080/",
          "height": 174
        },
        "id": "S__WTd6dYQVl",
        "outputId": "63ef6339-19f9-41ab-98fa-79e29e9e94b7"
      },
      "execution_count": null,
      "outputs": [
        {
          "output_type": "error",
          "ename": "KeyError",
          "evalue": "ignored",
          "traceback": [
            "\u001b[0;31m---------------------------------------------------------------------------\u001b[0m",
            "\u001b[0;31mKeyError\u001b[0m                                  Traceback (most recent call last)",
            "\u001b[0;32m<ipython-input-77-45cf5b3735c4>\u001b[0m in \u001b[0;36m<module>\u001b[0;34m()\u001b[0m\n\u001b[0;32m----> 1\u001b[0;31m \u001b[0mset\u001b[0m\u001b[0;34m.\u001b[0m\u001b[0mremove\u001b[0m\u001b[0;34m(\u001b[0m\u001b[0;36m1\u001b[0m\u001b[0;34m)\u001b[0m\u001b[0;34m\u001b[0m\u001b[0;34m\u001b[0m\u001b[0m\n\u001b[0m",
            "\u001b[0;31mKeyError\u001b[0m: 1"
          ]
        }
      ]
    },
    {
      "cell_type": "code",
      "source": [
        "set"
      ],
      "metadata": {
        "colab": {
          "base_uri": "https://localhost:8080/"
        },
        "id": "hooxad27YwI6",
        "outputId": "57130dce-baf9-4cb9-cd1a-ca80f29b6ccd"
      },
      "execution_count": null,
      "outputs": [
        {
          "output_type": "execute_result",
          "data": {
            "text/plain": [
              "{2, 3, 4, 5, 6, 7}"
            ]
          },
          "metadata": {},
          "execution_count": 76
        }
      ]
    },
    {
      "cell_type": "code",
      "source": [
        "a={1,2,3}\n",
        "b={1,3,4}"
      ],
      "metadata": {
        "id": "Zpmik8M8ZJES"
      },
      "execution_count": null,
      "outputs": []
    },
    {
      "cell_type": "markdown",
      "source": [
        "& 교집합"
      ],
      "metadata": {
        "id": "PEW5ZwUpZqqZ"
      }
    },
    {
      "cell_type": "code",
      "source": [
        "c=a&b     #  & 교집합\n",
        "print(c)"
      ],
      "metadata": {
        "colab": {
          "base_uri": "https://localhost:8080/"
        },
        "id": "mKCUXzWHZeqh",
        "outputId": "e7c8164f-d19c-4e7a-ff08-6f7dde37d151"
      },
      "execution_count": null,
      "outputs": [
        {
          "output_type": "stream",
          "name": "stdout",
          "text": [
            "{1, 3}\n"
          ]
        }
      ]
    },
    {
      "cell_type": "markdown",
      "source": [
        "| 합집합"
      ],
      "metadata": {
        "id": "lvL2e613aAHo"
      }
    },
    {
      "cell_type": "code",
      "source": [
        "d=a|b   #  | 합집합   | or의 의미\n",
        "print(d)"
      ],
      "metadata": {
        "colab": {
          "base_uri": "https://localhost:8080/"
        },
        "id": "-VWYOQT0ZjCJ",
        "outputId": "50c49ef6-9ba0-48a8-cfd4-50795df82a67"
      },
      "execution_count": null,
      "outputs": [
        {
          "output_type": "stream",
          "name": "stdout",
          "text": [
            "{1, 2, 3, 4}\n"
          ]
        }
      ]
    },
    {
      "cell_type": "code",
      "source": [
        "e=a-b   # a에 있는 것만\n",
        "print(e)"
      ],
      "metadata": {
        "colab": {
          "base_uri": "https://localhost:8080/"
        },
        "id": "y3nOckNOZ6Ef",
        "outputId": "3db90c47-7c3c-4ea0-f4e1-ec559820a5d3"
      },
      "execution_count": null,
      "outputs": [
        {
          "output_type": "stream",
          "name": "stdout",
          "text": [
            "{2}\n"
          ]
        }
      ]
    },
    {
      "cell_type": "markdown",
      "source": [
        "# **딕셔너리 dic {}**\n",
        "하나하나의 대한 요소,\n",
        "\n",
        "기준값 key와 value가 하나의 쌍으로 이루어짐\n",
        "\n",
        "ex) 라면 1, 김밥 2, 짜장면 3  ~> 세트로 이루어짐"
      ],
      "metadata": {
        "id": "UbPk9EIJaS9w"
      }
    },
    {
      "cell_type": "code",
      "source": [
        "dic={'Kim':90, 'Jeong':80, 'Park':75}  # 'Kim':90 하나의 구성"
      ],
      "metadata": {
        "id": "VOu2OAD6aKOy"
      },
      "execution_count": null,
      "outputs": []
    },
    {
      "cell_type": "code",
      "source": [
        "dic['Kim']  # [] 요소 접근"
      ],
      "metadata": {
        "colab": {
          "base_uri": "https://localhost:8080/"
        },
        "id": "-IGKPB76ayQq",
        "outputId": "a80ccbed-ef5e-4518-d74a-6e2eda1f1871"
      },
      "execution_count": null,
      "outputs": [
        {
          "output_type": "execute_result",
          "data": {
            "text/plain": [
              "90"
            ]
          },
          "metadata": {},
          "execution_count": 92
        }
      ]
    },
    {
      "cell_type": "markdown",
      "source": [
        "**추가 변경**\n",
        "\n",
        "[키가 되는 값]=해당되는 값"
      ],
      "metadata": {
        "id": "QQ95EqRXbI_H"
      }
    },
    {
      "cell_type": "code",
      "source": [
        "dic['Jeong']=85  # jeong 값을 85로 변경"
      ],
      "metadata": {
        "id": "uLHBRPoxazpc"
      },
      "execution_count": null,
      "outputs": []
    },
    {
      "cell_type": "code",
      "source": [
        "dic['Cho']=95 "
      ],
      "metadata": {
        "id": "GeROdnUQbFIz"
      },
      "execution_count": null,
      "outputs": []
    },
    {
      "cell_type": "markdown",
      "source": [
        "del 삭제"
      ],
      "metadata": {
        "id": "tKZd09JobWMB"
      }
    },
    {
      "cell_type": "code",
      "source": [
        "del dic['Park']"
      ],
      "metadata": {
        "id": "BUp4EChjbTms"
      },
      "execution_count": null,
      "outputs": []
    },
    {
      "cell_type": "code",
      "source": [
        "print(dic)"
      ],
      "metadata": {
        "colab": {
          "base_uri": "https://localhost:8080/"
        },
        "id": "aEpHIfgIbYG0",
        "outputId": "8fe4af63-eba8-464b-9899-42648026312a"
      },
      "execution_count": null,
      "outputs": [
        {
          "output_type": "stream",
          "name": "stdout",
          "text": [
            "{'Kim': 90, 'Jeong': 85, 'Cho': 95}\n"
          ]
        }
      ]
    },
    {
      "cell_type": "markdown",
      "source": [
        "**저장된 키와 값 확인**\n",
        "\n",
        "키 dic.keys()\n",
        "\n",
        "값 dic.values()"
      ],
      "metadata": {
        "id": "jJqVcmnUbjBQ"
      }
    },
    {
      "cell_type": "code",
      "source": [
        "print(dic.keys())    # 키"
      ],
      "metadata": {
        "colab": {
          "base_uri": "https://localhost:8080/"
        },
        "id": "qIfjDqcXbdSZ",
        "outputId": "fb9bc3a1-15d7-443d-c910-15e37fa5b29c"
      },
      "execution_count": null,
      "outputs": [
        {
          "output_type": "stream",
          "name": "stdout",
          "text": [
            "dict_keys(['Kim', 'Jeong', 'Cho'])\n"
          ]
        }
      ]
    },
    {
      "cell_type": "code",
      "source": [
        "print(dic.values()) # 값"
      ],
      "metadata": {
        "colab": {
          "base_uri": "https://localhost:8080/"
        },
        "id": "F9NjrjVBbhkP",
        "outputId": "6f8a135d-615b-4791-ab39-f11fc71b76c8"
      },
      "execution_count": null,
      "outputs": [
        {
          "output_type": "stream",
          "name": "stdout",
          "text": [
            "dict_values([90, 85, 95])\n"
          ]
        }
      ]
    },
    {
      "cell_type": "markdown",
      "source": [
        "## **> 데이터 정리**\n",
        "\n",
        "어디에 접근 자료 유형 상관 x  [ ]\n",
        "\n",
        "다른 것들은 바꿀 수 있지만 튜플은 변경 불가 (추가는 가능)\n",
        "\n",
        "집합, 사전  ex) 가게에서 메뉴 구성, 회사에서 제품 가격 일련번호 구성할 때\n",
        "\n",
        "집합은 목록의미\n",
        "\n",
        "사전은 라면 얼마 김밥 얼마 ~> 쌍을 이루는 key와 value의 대응으로 이루어짐"
      ],
      "metadata": {
        "id": "P5ueiWEecExM"
      }
    },
    {
      "cell_type": "markdown",
      "source": [
        "------------------------------------"
      ],
      "metadata": {
        "id": "V8LTdgTLcjrl"
      }
    },
    {
      "cell_type": "markdown",
      "source": [
        "# **조건문 if문**\n",
        "* 조건의 참 또는 거짓에 따라 구문 안에 있는 값을 실행\n",
        "\n",
        "if(조건문):\n",
        "\n",
        "  명령어1\n",
        "\n",
        "elif(조건문):\n",
        "\n",
        "명령어2\n",
        "\n",
        "else(조건문):\n",
        "\n",
        "명령어3"
      ],
      "metadata": {
        "id": "o5FLTLeuclOf"
      }
    },
    {
      "cell_type": "markdown",
      "source": [
        "**## 5000원 이상 있으면 택시타고, 3000원이면 ktx타고 그 이하면 걸어가고.. 돈--> 알려주고 싶다면**"
      ],
      "metadata": {
        "id": "Ms7uAc5EeT2A"
      }
    },
    {
      "cell_type": "code",
      "source": [
        "money=1000"
      ],
      "metadata": {
        "id": "M3hqquagccip"
      },
      "execution_count": null,
      "outputs": []
    },
    {
      "cell_type": "markdown",
      "source": [
        "= (<-) 이러한 값을 넣어라   \n",
        "== 같다"
      ],
      "metadata": {
        "id": "PO_fIdqzekEx"
      }
    },
    {
      "cell_type": "code",
      "source": [
        "if money==3000:\n",
        "  print('KTX타고 가세요')\n",
        "elif money>=5000:       # 아니면 ( elif는 여러개 가능)\n",
        "  print('택시타고 가세요')\n",
        "else:                   # 전부 아니면\n",
        "  print('걸어가세요')"
      ],
      "metadata": {
        "colab": {
          "base_uri": "https://localhost:8080/"
        },
        "id": "VAQHonzQeayD",
        "outputId": "be62cc45-c0f6-4f62-9be4-ec9180390249"
      },
      "execution_count": null,
      "outputs": [
        {
          "output_type": "stream",
          "name": "stdout",
          "text": [
            "걸어가세요\n"
          ]
        }
      ]
    },
    {
      "cell_type": "markdown",
      "source": [
        "# **반복문 for문**\n",
        "\n",
        "* 특정 연산을 여러 번 반복해야 할 때\n",
        "\n",
        "for 변수 in 리스트/튜플/문자열 :\n",
        " \n",
        " 수행할 문장1 수행할 문장2 \n",
        "\n",
        " ..."
      ],
      "metadata": {
        "id": "ygyTiwR5fPjR"
      }
    },
    {
      "cell_type": "code",
      "source": [
        "sum=0   # 초기화 : 0부터 시작 \n",
        "for i in range(11):    #  i는 range의 값을 받음  range( 0부터 10까지 11개 )  \n",
        "  sum=sum+i   # i더해 누적\n",
        "print(sum)\n"
      ],
      "metadata": {
        "colab": {
          "base_uri": "https://localhost:8080/"
        },
        "id": "hLgthmUQe5xX",
        "outputId": "c82a4d1a-c5e3-4de9-de2a-48fd8b269d7f"
      },
      "execution_count": null,
      "outputs": [
        {
          "output_type": "stream",
          "name": "stdout",
          "text": [
            "55\n"
          ]
        }
      ]
    },
    {
      "cell_type": "markdown",
      "source": [
        "리스트 안에 있는 것들을 하나씩 찾을 때"
      ],
      "metadata": {
        "id": "0Nq0fv-4gniA"
      }
    },
    {
      "cell_type": "code",
      "source": [
        "list=['wise','in','company']"
      ],
      "metadata": {
        "id": "8udyGPoCfwh6"
      },
      "execution_count": null,
      "outputs": []
    },
    {
      "cell_type": "code",
      "source": [
        "for s in list:  # 리스트 안에 있는 것에서 대입하여 반복\n",
        "  print(s)\n"
      ],
      "metadata": {
        "colab": {
          "base_uri": "https://localhost:8080/"
        },
        "id": "JTjzkgI6gY_C",
        "outputId": "9e5dd743-1448-4b63-dd07-083ac23d94e3"
      },
      "execution_count": null,
      "outputs": [
        {
          "output_type": "stream",
          "name": "stdout",
          "text": [
            "wise\n",
            "in\n",
            "company\n"
          ]
        }
      ]
    },
    {
      "cell_type": "markdown",
      "source": [
        "# **while문**\n",
        "* 특정 조건까지 계속 반복\n",
        "\n",
        "while <조건문> :\n",
        "\n",
        "<수행할 문장>\n",
        "\n",
        "<수행할 문장>\n",
        "\n",
        "..."
      ],
      "metadata": {
        "id": "QtdnZDrfgsnO"
      }
    },
    {
      "cell_type": "code",
      "source": [
        "i=0\n",
        "while i<10:  # 9까지 실행  / while 조건에 충족될 때까지\n",
        "  print(i)\n",
        "  i=i+1  # 만약 이 식이 없다면 0이 무한대 출력"
      ],
      "metadata": {
        "colab": {
          "base_uri": "https://localhost:8080/"
        },
        "id": "bDopoYn5hLkk",
        "outputId": "b24e9882-8cd0-49c3-864f-7c0838fa734a"
      },
      "execution_count": null,
      "outputs": [
        {
          "output_type": "stream",
          "name": "stdout",
          "text": [
            "0\n",
            "1\n",
            "2\n",
            "3\n",
            "4\n",
            "5\n",
            "6\n",
            "7\n",
            "8\n",
            "9\n"
          ]
        }
      ]
    },
    {
      "cell_type": "markdown",
      "source": [
        "len  데이터 요소 몇개인지 파악 "
      ],
      "metadata": {
        "id": "LuvCwKxwiKWT"
      }
    },
    {
      "cell_type": "code",
      "source": [
        "food=['apple','banana','coffee','bread']  # list\n",
        "i=0  # 초기화\n",
        "while i< len(food):  # 요소 몇개인지 파악 food => 4  / 4보다 작을 때까지 실행\n",
        "  print(food[i])   # food에 있는 i번째 값 출력\n",
        "  i=i+1  # i는 한 번 실행했으면 1추가\n"
      ],
      "metadata": {
        "colab": {
          "base_uri": "https://localhost:8080/"
        },
        "id": "F0xJ6hTkhsiq",
        "outputId": "da057b04-474d-4c8d-df7a-f92c3d4089cb"
      },
      "execution_count": null,
      "outputs": [
        {
          "output_type": "stream",
          "name": "stdout",
          "text": [
            "apple\n",
            "banana\n",
            "coffee\n",
            "bread\n"
          ]
        }
      ]
    }
  ]
}